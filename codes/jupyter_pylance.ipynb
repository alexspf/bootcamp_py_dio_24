{
 "cells": [
  {
   "cell_type": "markdown",
   "metadata": {},
   "source": [
    "## Sistema bancario py simples"
   ]
  },
  {
   "cell_type": "code",
   "execution_count": 18,
   "metadata": {},
   "outputs": [
    {
     "name": "stdout",
     "output_type": "stream",
     "text": [
      "o seu saldo é 1000\n",
      "o seu saldo é 1000\n",
      "o seu saldo é 1000\n",
      "o seu saldo é 1000\n",
      "o seu saldo é 1000\n",
      "o seu saldo é 1000\n"
     ]
    },
    {
     "ename": "TypeError",
     "evalue": "unsupported operand type(s) for -=: 'int' and 'NoneType'",
     "output_type": "error",
     "traceback": [
      "\u001b[0;31m---------------------------------------------------------------------------\u001b[0m",
      "\u001b[0;31mValueError\u001b[0m                                Traceback (most recent call last)",
      "\u001b[1;32m/home/alex/git/git_net/bootcamp_py_dio_24/codes/jupyter_pylance.ipynb Cell 1\u001b[0m line \u001b[0;36m3\n\u001b[1;32m     <a href='vscode-notebook-cell:/home/alex/git/git_net/bootcamp_py_dio_24/codes/jupyter_pylance.ipynb#W0sZmlsZQ%3D%3D?line=35'>36</a>\u001b[0m \u001b[39mcase\u001b[39;00m \u001b[39m1\u001b[39m:\n\u001b[0;32m---> <a href='vscode-notebook-cell:/home/alex/git/git_net/bootcamp_py_dio_24/codes/jupyter_pylance.ipynb#W0sZmlsZQ%3D%3D?line=36'>37</a>\u001b[0m     \u001b[39mreturn\u001b[39;00m \u001b[39mint\u001b[39;49m(\u001b[39minput\u001b[39;49m(\u001b[39m'\u001b[39;49m\u001b[39mQuanto deseja depositar?\u001b[39;49m\u001b[39m'\u001b[39;49m))\n\u001b[1;32m     <a href='vscode-notebook-cell:/home/alex/git/git_net/bootcamp_py_dio_24/codes/jupyter_pylance.ipynb#W0sZmlsZQ%3D%3D?line=38'>39</a>\u001b[0m \u001b[39mcase\u001b[39;00m \u001b[39m2\u001b[39m:\n",
      "\u001b[0;31mValueError\u001b[0m: invalid literal for int() with base 10: 'a'",
      "\nDuring handling of the above exception, another exception occurred:\n",
      "\u001b[0;31mTypeError\u001b[0m                                 Traceback (most recent call last)",
      "\u001b[1;32m/home/alex/git/git_net/bootcamp_py_dio_24/codes/jupyter_pylance.ipynb Cell 1\u001b[0m line \u001b[0;36m6\n\u001b[1;32m     <a href='vscode-notebook-cell:/home/alex/git/git_net/bootcamp_py_dio_24/codes/jupyter_pylance.ipynb#W0sZmlsZQ%3D%3D?line=58'>59</a>\u001b[0m             \u001b[39mcase\u001b[39;00m \u001b[39m4\u001b[39m:\n\u001b[1;32m     <a href='vscode-notebook-cell:/home/alex/git/git_net/bootcamp_py_dio_24/codes/jupyter_pylance.ipynb#W0sZmlsZQ%3D%3D?line=59'>60</a>\u001b[0m                 \u001b[39mbreak\u001b[39;00m\n\u001b[0;32m---> <a href='vscode-notebook-cell:/home/alex/git/git_net/bootcamp_py_dio_24/codes/jupyter_pylance.ipynb#W0sZmlsZQ%3D%3D?line=61'>62</a>\u001b[0m operation()\n",
      "\u001b[1;32m/home/alex/git/git_net/bootcamp_py_dio_24/codes/jupyter_pylance.ipynb Cell 1\u001b[0m line \u001b[0;36m5\n\u001b[1;32m     <a href='vscode-notebook-cell:/home/alex/git/git_net/bootcamp_py_dio_24/codes/jupyter_pylance.ipynb#W0sZmlsZQ%3D%3D?line=50'>51</a>\u001b[0m     statement()\n\u001b[1;32m     <a href='vscode-notebook-cell:/home/alex/git/git_net/bootcamp_py_dio_24/codes/jupyter_pylance.ipynb#W0sZmlsZQ%3D%3D?line=52'>53</a>\u001b[0m \u001b[39mcase\u001b[39;00m \u001b[39m2\u001b[39m:\n\u001b[0;32m---> <a href='vscode-notebook-cell:/home/alex/git/git_net/bootcamp_py_dio_24/codes/jupyter_pylance.ipynb#W0sZmlsZQ%3D%3D?line=53'>54</a>\u001b[0m     deposit()\n\u001b[1;32m     <a href='vscode-notebook-cell:/home/alex/git/git_net/bootcamp_py_dio_24/codes/jupyter_pylance.ipynb#W0sZmlsZQ%3D%3D?line=55'>56</a>\u001b[0m \u001b[39mcase\u001b[39;00m \u001b[39m3\u001b[39m:\n\u001b[1;32m     <a href='vscode-notebook-cell:/home/alex/git/git_net/bootcamp_py_dio_24/codes/jupyter_pylance.ipynb#W0sZmlsZQ%3D%3D?line=56'>57</a>\u001b[0m     withdraw()\n",
      "\u001b[1;32m/home/alex/git/git_net/bootcamp_py_dio_24/codes/jupyter_pylance.ipynb Cell 1\u001b[0m line \u001b[0;36m1\n\u001b[1;32m      <a href='vscode-notebook-cell:/home/alex/git/git_net/bootcamp_py_dio_24/codes/jupyter_pylance.ipynb#W0sZmlsZQ%3D%3D?line=7'>8</a>\u001b[0m \u001b[39mdef\u001b[39;00m \u001b[39mdeposit\u001b[39m():\n\u001b[1;32m      <a href='vscode-notebook-cell:/home/alex/git/git_net/bootcamp_py_dio_24/codes/jupyter_pylance.ipynb#W0sZmlsZQ%3D%3D?line=8'>9</a>\u001b[0m \u001b[39m    \u001b[39m\u001b[39m\"\"\"\"option to deposit\"\"\"\u001b[39;00m\n\u001b[0;32m---> <a href='vscode-notebook-cell:/home/alex/git/git_net/bootcamp_py_dio_24/codes/jupyter_pylance.ipynb#W0sZmlsZQ%3D%3D?line=9'>10</a>\u001b[0m     value \u001b[39m=\u001b[39m get_option(\u001b[39m1\u001b[39;49m)\n\u001b[1;32m     <a href='vscode-notebook-cell:/home/alex/git/git_net/bootcamp_py_dio_24/codes/jupyter_pylance.ipynb#W0sZmlsZQ%3D%3D?line=10'>11</a>\u001b[0m     usertest\u001b[39m.\u001b[39mstatement \u001b[39m+\u001b[39m\u001b[39m=\u001b[39m value\n",
      "\u001b[1;32m/home/alex/git/git_net/bootcamp_py_dio_24/codes/jupyter_pylance.ipynb Cell 1\u001b[0m line \u001b[0;36m4\n\u001b[1;32m     <a href='vscode-notebook-cell:/home/alex/git/git_net/bootcamp_py_dio_24/codes/jupyter_pylance.ipynb#W0sZmlsZQ%3D%3D?line=39'>40</a>\u001b[0m             \u001b[39mreturn\u001b[39;00m \u001b[39mint\u001b[39m(\u001b[39minput\u001b[39m(\u001b[39m'\u001b[39m\u001b[39mQuanto deseja sacar?\u001b[39m\u001b[39m'\u001b[39m))\n\u001b[1;32m     <a href='vscode-notebook-cell:/home/alex/git/git_net/bootcamp_py_dio_24/codes/jupyter_pylance.ipynb#W0sZmlsZQ%3D%3D?line=40'>41</a>\u001b[0m \u001b[39mexcept\u001b[39;00m \u001b[39mException\u001b[39;00m:\n\u001b[0;32m---> <a href='vscode-notebook-cell:/home/alex/git/git_net/bootcamp_py_dio_24/codes/jupyter_pylance.ipynb#W0sZmlsZQ%3D%3D?line=41'>42</a>\u001b[0m     operation()\n",
      "\u001b[1;32m/home/alex/git/git_net/bootcamp_py_dio_24/codes/jupyter_pylance.ipynb Cell 1\u001b[0m line \u001b[0;36m5\n\u001b[1;32m     <a href='vscode-notebook-cell:/home/alex/git/git_net/bootcamp_py_dio_24/codes/jupyter_pylance.ipynb#W0sZmlsZQ%3D%3D?line=53'>54</a>\u001b[0m     deposit()\n\u001b[1;32m     <a href='vscode-notebook-cell:/home/alex/git/git_net/bootcamp_py_dio_24/codes/jupyter_pylance.ipynb#W0sZmlsZQ%3D%3D?line=55'>56</a>\u001b[0m \u001b[39mcase\u001b[39;00m \u001b[39m3\u001b[39m:\n\u001b[0;32m---> <a href='vscode-notebook-cell:/home/alex/git/git_net/bootcamp_py_dio_24/codes/jupyter_pylance.ipynb#W0sZmlsZQ%3D%3D?line=56'>57</a>\u001b[0m     withdraw()\n\u001b[1;32m     <a href='vscode-notebook-cell:/home/alex/git/git_net/bootcamp_py_dio_24/codes/jupyter_pylance.ipynb#W0sZmlsZQ%3D%3D?line=58'>59</a>\u001b[0m \u001b[39mcase\u001b[39;00m \u001b[39m4\u001b[39m:\n\u001b[1;32m     <a href='vscode-notebook-cell:/home/alex/git/git_net/bootcamp_py_dio_24/codes/jupyter_pylance.ipynb#W0sZmlsZQ%3D%3D?line=59'>60</a>\u001b[0m     \u001b[39mbreak\u001b[39;00m\n",
      "\u001b[1;32m/home/alex/git/git_net/bootcamp_py_dio_24/codes/jupyter_pylance.ipynb Cell 1\u001b[0m line \u001b[0;36m1\n\u001b[1;32m     <a href='vscode-notebook-cell:/home/alex/git/git_net/bootcamp_py_dio_24/codes/jupyter_pylance.ipynb#W0sZmlsZQ%3D%3D?line=13'>14</a>\u001b[0m \u001b[39m\u001b[39m\u001b[39m\"\"\"\"option for withdraw\"\"\"\u001b[39;00m\n\u001b[1;32m     <a href='vscode-notebook-cell:/home/alex/git/git_net/bootcamp_py_dio_24/codes/jupyter_pylance.ipynb#W0sZmlsZQ%3D%3D?line=15'>16</a>\u001b[0m value \u001b[39m=\u001b[39m get_option(\u001b[39m2\u001b[39m)\n\u001b[0;32m---> <a href='vscode-notebook-cell:/home/alex/git/git_net/bootcamp_py_dio_24/codes/jupyter_pylance.ipynb#W0sZmlsZQ%3D%3D?line=16'>17</a>\u001b[0m usertest\u001b[39m.\u001b[39;49mstatement \u001b[39m-\u001b[39;49m\u001b[39m=\u001b[39;49m value\n",
      "\u001b[0;31mTypeError\u001b[0m: unsupported operand type(s) for -=: 'int' and 'NoneType'"
     ]
    }
   ],
   "source": [
    "class UserData:\n",
    "    def __init__(self, name, statement):\n",
    "        self.name = name\n",
    "        self.statement = statement\n",
    "\n",
    "user = UserData('zeca', 1000)\n",
    "\n",
    "def deposit():\n",
    "    \"\"\"\"option to deposit\"\"\"\n",
    "    value = get_option(1)\n",
    "    user.statement += value\n",
    "     \n",
    "def withdraw():\n",
    "    \"\"\"\"option for withdraw\"\"\"\n",
    "\n",
    "    value = get_option(2)\n",
    "    user.statement -= value\n",
    "\n",
    "def statement():\n",
    "    \"\"\"\"option for statement\"\"\"\n",
    "    local_variable = f'o seu saldo é {user.statement}'\n",
    "    print(local_variable)\n",
    "\n",
    "def get_option(get) -> int:\n",
    "    \"\"\"\"Print options and get option for user\"\"\"\n",
    "    try:\n",
    "        match get:\n",
    "\n",
    "            case 0:    \n",
    "\n",
    "                return int(input('Ola bien viendo to sistema bancaro do zecatatu\\nEscolha zeca\\n[1]Ver saldo\\n[2]depositar\\n[3]sacarn[4]Sair'))\n",
    "\n",
    "\n",
    "\n",
    "\n",
    "            case 1:\n",
    "                return int(input('Quanto deseja depositar?'))\n",
    "\n",
    "            case 2:\n",
    "                return int(input('Quanto deseja sacar?'))\n",
    "    except Exception:\n",
    "        operation()\n",
    "            \n",
    "def operation():\n",
    "    while True:\n",
    "        get = 0\n",
    "        option = get_option(get)\n",
    "        match option:\n",
    "\n",
    "            case 1:\n",
    "                statement()\n",
    "\n",
    "            case 2:\n",
    "                deposit()\n",
    "                \n",
    "            case 3:\n",
    "                withdraw()\n",
    "                \n",
    "            case 4:\n",
    "                break\n",
    "\n",
    "operation()"
   ]
  },
  {
   "cell_type": "markdown",
   "metadata": {},
   "source": []
  },
  {
   "cell_type": "markdown",
   "metadata": {},
   "source": [
    "Agora é a sua hora de brilhar e construir um perfil de destaque na DIO! Explore todos os conceitos explorados até aqui e replique (ou melhore, porque não?) este projeto prático. Para isso, crie seu próprio repositório e aumente ainda mais seu portfólio de projetos no GitHub, o qual pode fazer toda diferença em suas entrevistas técnicas 😎\n",
    "\n",
    "Já dominamos o universo do desenvolvimento Python e projeto \"Criando um Sistema Bancário com Python\" oferece uma experiência prática de desenvolvimento de software financeiro. Os participantes construirão um sistema completo, abordando funcionalidades como criação de contas, transações e segurança. É uma oportunidade para aprimorar habilidades de programação Python e compreender conceitos financeiros e de segurança.\n",
    "\n",
    "Neste projeto, você terá a oportunidade de criar um Sistema Bancário em Python. O objetivo é implementar três operações essenciais: depósito, saque e extrato. O sistema será desenvolvido para um banco que busca monetizar suas operações. Durante o desafio, você terá a chance de aplicar seus conhecimentos em programação Python e criar um sistema funcional que simule as operações bancárias. Prepare-se para aprimorar suas habilidades e demonstrar sua capacidade de desenvolver soluções práticas e eficientes."
   ]
  },
  {
   "cell_type": "code",
   "execution_count": 19,
   "metadata": {},
   "outputs": [
    {
     "name": "stdout",
     "output_type": "stream",
     "text": [
      "Help on function get_option in module __main__:\n",
      "\n",
      "get_option() -> int\n",
      "    \"printa o resultado\n",
      "\n"
     ]
    }
   ],
   "source": []
  }
 ],
 "metadata": {
  "kernelspec": {
   "display_name": ".python",
   "language": "python",
   "name": "python3"
  },
  "language_info": {
   "codemirror_mode": {
    "name": "ipython",
    "version": 3
   },
   "file_extension": ".py",
   "mimetype": "text/x-python",
   "name": "python",
   "nbconvert_exporter": "python",
   "pygments_lexer": "ipython3",
   "version": "3.11.8"
  }
 },
 "nbformat": 4,
 "nbformat_minor": 2
}
