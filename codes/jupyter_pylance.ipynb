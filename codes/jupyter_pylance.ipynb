{
 "cells": [
  {
   "cell_type": "markdown",
   "metadata": {},
   "source": [
    "## Sistema bancario py simples"
   ]
  },
  {
   "cell_type": "code",
   "execution_count": null,
   "metadata": {},
   "outputs": [],
   "source": [
    "class UserData:\n",
    "    def __init__(self, name, statement):\n",
    "        self.name = name\n",
    "        self.statement = statement\n",
    "\n",
    "user = UserData('zeca', 1000)\n",
    "\n",
    "def deposit():\n",
    "    \"\"\"\"option to deposit\"\"\"\n",
    "    value = get_option(1)\n",
    "    user.statement += value\n",
    "     \n",
    "def withdraw():\n",
    "    \"\"\"\"option for withdraw\"\"\"\n",
    "\n",
    "    value = get_option(2)\n",
    "    user.statement -= value\n",
    "\n",
    "def statement():\n",
    "    \"\"\"\"option for statement\"\"\"\n",
    "    local_variable = f'o seu saldo é {user.statement}'\n",
    "    print(local_variable)\n",
    "\n",
    "def get_option(get) -> int:\n",
    "    \"\"\"\"Print options and get option for user\"\"\"\n",
    "    try:\n",
    "        match get:\n",
    "\n",
    "            case 0:    \n",
    "\n",
    "                return int(input('Ola bien viendo to sistema bancaro do zecatatu\\nEscolha zeca\\n[1]Ver saldo\\n[2]depositar\\n[3]sacarn[4]Sair'))\n",
    "\n",
    "\n",
    "\n",
    "\n",
    "            case 1:\n",
    "                return int(input('Quanto deseja depositar?'))\n",
    "\n",
    "            case 2:\n",
    "                return int(input('Quanto deseja sacar?'))\n",
    "    except Exception:\n",
    "        operation()\n",
    "            \n",
    "def operation():\n",
    "    while True:\n",
    "        get = 0\n",
    "        option = get_option(get)\n",
    "        match option:\n",
    "\n",
    "            case 1:\n",
    "                statement()\n",
    "\n",
    "            case 2:\n",
    "                deposit()\n",
    "                \n",
    "            case 3:\n",
    "                withdraw()\n",
    "                \n",
    "            case 4:\n",
    "                break\n",
    "\n",
    "operation()"
   ]
  },
  {
   "cell_type": "markdown",
   "metadata": {},
   "source": []
  },
  {
   "cell_type": "code",
   "execution_count": 12,
   "metadata": {},
   "outputs": [
    {
     "ename": "TypeError",
     "evalue": "list indices must be integers or slices, not str",
     "output_type": "error",
     "traceback": [
      "\u001b[0;31m---------------------------------------------------------------------------\u001b[0m",
      "\u001b[0;31mTypeError\u001b[0m                                 Traceback (most recent call last)",
      "\u001b[1;32m/home/alex/git/git_my/bootcamp_py_dio_24/codes/jupyter_pylance.ipynb Cell 5\u001b[0m line \u001b[0;36m2\n\u001b[1;32m      <a href='vscode-notebook-cell:/home/alex/git/git_my/bootcamp_py_dio_24/codes/jupyter_pylance.ipynb#W4sZmlsZQ%3D%3D?line=0'>1</a>\u001b[0m frutas \u001b[39m=\u001b[39m [\u001b[39m\"\u001b[39m\u001b[39mmaçã\u001b[39m\u001b[39m\"\u001b[39m, \u001b[39m\"\u001b[39m\u001b[39mlaranja\u001b[39m\u001b[39m\"\u001b[39m, \u001b[39m\"\u001b[39m\u001b[39muva\u001b[39m\u001b[39m\"\u001b[39m, \u001b[39m\"\u001b[39m\u001b[39mpera\u001b[39m\u001b[39m\"\u001b[39m]\n\u001b[0;32m----> <a href='vscode-notebook-cell:/home/alex/git/git_my/bootcamp_py_dio_24/codes/jupyter_pylance.ipynb#W4sZmlsZQ%3D%3D?line=1'>2</a>\u001b[0m frutas[\u001b[39m\"\u001b[39;49m\u001b[39mmaça\u001b[39;49m\u001b[39m\"\u001b[39;49m]\n",
      "\u001b[0;31mTypeError\u001b[0m: list indices must be integers or slices, not str"
     ]
    }
   ],
   "source": [
    "a = 2\n",
    "match a:\n",
    "    case 1:\n",
    "        print('1')\n",
    "    case 2:\n",
    "        print('2')\n",
    "    \n",
    "    "
   ]
  },
  {
   "cell_type": "code",
   "execution_count": null,
   "metadata": {},
   "outputs": [],
   "source": []
  }
 ],
 "metadata": {
  "kernelspec": {
   "display_name": ".python",
   "language": "python",
   "name": "python3"
  },
  "language_info": {
   "codemirror_mode": {
    "name": "ipython",
    "version": 3
   },
   "file_extension": ".py",
   "mimetype": "text/x-python",
   "name": "python",
   "nbconvert_exporter": "python",
   "pygments_lexer": "ipython3",
   "version": "3.11.8"
  }
 },
 "nbformat": 4,
 "nbformat_minor": 2
}
