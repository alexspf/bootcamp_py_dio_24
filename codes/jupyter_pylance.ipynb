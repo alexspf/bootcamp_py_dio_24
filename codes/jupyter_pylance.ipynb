{
 "cells": [
  {
   "cell_type": "markdown",
   "metadata": {},
   "source": [
    "## sketch\n"
   ]
  },
  {
   "cell_type": "markdown",
   "metadata": {},
   "source": []
  },
  {
   "cell_type": "code",
   "execution_count": null,
   "metadata": {},
   "outputs": [],
   "source": []
  },
  {
   "cell_type": "code",
   "execution_count": 3,
   "metadata": {},
   "outputs": [
    {
     "name": "stdout",
     "output_type": "stream",
     "text": [
      "Lista de Equipamentos:\n",
      "\n",
      "- 1\n",
      "- 1\n",
      "- 1\n"
     ]
    }
   ],
   "source": [
    "class Equips():\n",
    "  def __init__(self, items):\n",
    "    self.items: list[str] = items\n",
    "\n",
    "class UserUi():\n",
    "  @staticmethod\n",
    "  def input_user():\n",
    "    return [input() for _ in range(3)]\n",
    "  \n",
    "  @staticmethod\n",
    "  def output_user(items_):\n",
    "    print(\"Lista de Equipamentos:\\n\")\n",
    "    print ( \"-\", \"\\n- \".join(items_))\n",
    "   \n",
    "def start():\n",
    "    user = Equips(UserUi.input_user()) \n",
    "    UserUi.output_user(user.items)  \n",
    "  \n",
    "start()\n"
   ]
  },
  {
   "cell_type": "code",
   "execution_count": 1,
   "metadata": {},
   "outputs": [
    {
     "name": "stdout",
     "output_type": "stream",
     "text": [
      "Número de telefone inválido.\n"
     ]
    }
   ],
   "source": [
    "from typing import LiteralString\n",
    "\n",
    "\n",
    "class UserData:\n",
    "    def __init__(self, name, number) -> None:\n",
    "        self.name:str = name\n",
    "        self.number:str = number\n",
    "\n",
    "class Operations():\n",
    "    @staticmethod\n",
    "    def check_num(_) -> None:\n",
    "        _ += (\" \")*11\n",
    "        if (_[10]==\"-\" and _[5]==\"9\" and _[4]==\" \"): \n",
    "            print(\"Número de telefone válido.\")\n",
    "        else: print(\"Número de telefone inválido.\")\n",
    "\n",
    "    @staticmethod\n",
    "    def input_user() -> None:\n",
    "        return input()\n",
    "\n",
    "def start()  -> None:\n",
    "    user1 = UserData(\"example\",Operations.input_user())\n",
    "    Operations.check_num(user1.number)\n",
    "start()"
   ]
  },
  {
   "cell_type": "code",
   "execution_count": 7,
   "metadata": {},
   "outputs": [
    {
     "name": "stdout",
     "output_type": "stream",
     "text": [
      "pica grande\n"
     ]
    }
   ],
   "source": [
    "\n"
   ]
  },
  {
   "cell_type": "code",
   "execution_count": null,
   "metadata": {},
   "outputs": [],
   "source": []
  }
 ],
 "metadata": {
  "kernelspec": {
   "display_name": ".python",
   "language": "python",
   "name": "python3"
  },
  "language_info": {
   "codemirror_mode": {
    "name": "ipython",
    "version": 3
   },
   "file_extension": ".py",
   "mimetype": "text/x-python",
   "name": "python",
   "nbconvert_exporter": "python",
   "pygments_lexer": "ipython3",
   "version": "3.11.8"
  }
 },
 "nbformat": 4,
 "nbformat_minor": 2
}
