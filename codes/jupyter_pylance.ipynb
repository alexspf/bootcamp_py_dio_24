{
 "cells": [
  {
   "cell_type": "code",
   "execution_count": 16,
   "metadata": {},
   "outputs": [],
   "source": [
    "class UserData:\n",
    "    def __init__\n",
    "\n",
    "def deposit():\n",
    "    print('helo idot')    \n",
    "# def withdraw():\n",
    "\"\"\"\"option for withdraw\"\"\"\n",
    "\n",
    "# def statement():\n",
    "\"\"\"\"option for statement\"\"\"\n",
    "\n",
    "def get_option() -> int:\n",
    "    \"\"\"\"Print options and get option for user\"\"\"\n",
    "    _: int = input('bien viendo to sistema bancaro do zecatatu\\nEscolha zeca\\n[1]Ver saldo\\n[2]depositar\\n[3]sacar')\n",
    "    return int(_)\n",
    "        \n",
    "def operation():\n",
    "    while True:\n",
    "        option = get_option()\n",
    "        match option:\n",
    "\n",
    "            case 1:\n",
    "                deposit()\n",
    "            case 2:\n",
    "                withdraw()\n",
    "            case 3:\n",
    "                statement()\n",
    "            case 4:\n",
    "                break\n",
    "\n",
    "operation()"
   ]
  },
  {
   "cell_type": "markdown",
   "metadata": {},
   "source": []
  },
  {
   "cell_type": "markdown",
   "metadata": {},
   "source": [
    "Agora é a sua hora de brilhar e construir um perfil de destaque na DIO! Explore todos os conceitos explorados até aqui e replique (ou melhore, porque não?) este projeto prático. Para isso, crie seu próprio repositório e aumente ainda mais seu portfólio de projetos no GitHub, o qual pode fazer toda diferença em suas entrevistas técnicas 😎\n",
    "\n",
    "Já dominamos o universo do desenvolvimento Python e projeto \"Criando um Sistema Bancário com Python\" oferece uma experiência prática de desenvolvimento de software financeiro. Os participantes construirão um sistema completo, abordando funcionalidades como criação de contas, transações e segurança. É uma oportunidade para aprimorar habilidades de programação Python e compreender conceitos financeiros e de segurança.\n",
    "\n",
    "Neste projeto, você terá a oportunidade de criar um Sistema Bancário em Python. O objetivo é implementar três operações essenciais: depósito, saque e extrato. O sistema será desenvolvido para um banco que busca monetizar suas operações. Durante o desafio, você terá a chance de aplicar seus conhecimentos em programação Python e criar um sistema funcional que simule as operações bancárias. Prepare-se para aprimorar suas habilidades e demonstrar sua capacidade de desenvolver soluções práticas e eficientes."
   ]
  },
  {
   "cell_type": "code",
   "execution_count": 19,
   "metadata": {},
   "outputs": [
    {
     "name": "stdout",
     "output_type": "stream",
     "text": [
      "Help on function get_option in module __main__:\n",
      "\n",
      "get_option() -> int\n",
      "    \"printa o resultado\n",
      "\n"
     ]
    }
   ],
   "source": []
  }
 ],
 "metadata": {
  "kernelspec": {
   "display_name": ".python",
   "language": "python",
   "name": "python3"
  },
  "language_info": {
   "codemirror_mode": {
    "name": "ipython",
    "version": 3
   },
   "file_extension": ".py",
   "mimetype": "text/x-python",
   "name": "python",
   "nbconvert_exporter": "python",
   "pygments_lexer": "ipython3",
   "version": "3.11.8"
  }
 },
 "nbformat": 4,
 "nbformat_minor": 2
}
